{
  "nbformat": 4,
  "nbformat_minor": 0,
  "metadata": {
    "colab": {
      "name": "TweetsIBGE.ipynb",
      "provenance": [],
      "collapsed_sections": [],
      "authorship_tag": "ABX9TyOr/Vk4E/vU9OWA9xEtigOw",
      "include_colab_link": true
    },
    "kernelspec": {
      "name": "python3",
      "display_name": "Python 3"
    },
    "language_info": {
      "name": "python"
    }
  },
  "cells": [
    {
      "cell_type": "markdown",
      "metadata": {
        "id": "view-in-github",
        "colab_type": "text"
      },
      "source": [
        "<a href=\"https://colab.research.google.com/github/Rosemeiry/-Pucgo-programa/blob/master/TweetsIBGE.ipynb\" target=\"_parent\"><img src=\"https://colab.research.google.com/assets/colab-badge.svg\" alt=\"Open In Colab\"/></a>"
      ]
    },
    {
      "cell_type": "code",
      "metadata": {
        "id": "OdwHitQIahrX"
      },
      "source": [
        "#Twitter - minerando com o Python"
      ],
      "execution_count": 1,
      "outputs": []
    },
    {
      "cell_type": "code",
      "metadata": {
        "id": "rq8Gj2GAieDb"
      },
      "source": [
        "import tweepy as tw\n",
        "import pandas as pd"
      ],
      "execution_count": null,
      "outputs": []
    },
    {
      "cell_type": "code",
      "metadata": {
        "id": "xUCjui2qalJe"
      },
      "source": [
        "#informando as credenciais, orientacao da documentacao do tweepy\n",
        "\n",
        "with open('twitter-tokens.txt', 'r') as tfile:\n",
        "    consumer_key=tfile.readline().strip('\\n')\n",
        "    consumer_secret=tfile.readline().strip('\\n')\n",
        "    access_token=tfile.readline().strip('\\n')\n",
        "    access_token_secret=tfile.readline().strip('\\n')"
      ],
      "execution_count": 3,
      "outputs": []
    },
    {
      "cell_type": "code",
      "metadata": {
        "id": "TWlntY4NaxV3"
      },
      "source": [
        "#puxando os Tweets da timeline\n",
        "\n",
        "auth=tw.OAuthHandler(consumer_key,consumer_secret)\n",
        "auth.set_access_token(access_token,access_token_secret)\n",
        "api=tw.API(auth)\n",
        "public_tweets=api.home_timeline()\n",
        "for tweet in public_tweets:\n",
        "      print (tweet.text)\n",
        "      print (tweet._json)"
      ],
      "execution_count": null,
      "outputs": []
    },
    {
      "cell_type": "code",
      "metadata": {
        "id": "xhmTEFboa7w7"
      },
      "source": [
        "#filtrando a query e tirando os retweets\n",
        "\n",
        "search_words=\"#IBGE\"\n",
        "query_search =\"#IBGE\" + \"-filter:retweets\" "
      ],
      "execution_count": null,
      "outputs": []
    },
    {
      "cell_type": "code",
      "metadata": {
        "id": "CzeLkQf1c2he"
      },
      "source": [
        "#usando a função cursor do tweepy\n",
        "\n",
        "cursor_tweets=tw.Cursor(api.search, \n",
        "        q=query_search).items(100)\n",
        "for tweet in cursor_tweets:\n",
        "        print(tweet.created_at)\n",
        "        print(tweet.text)"
      ],
      "execution_count": null,
      "outputs": []
    },
    {
      "cell_type": "code",
      "metadata": {
        "id": "r6J0kEPddHqM"
      },
      "source": [
        "#limpando e extraindo apenas os dicionarios jason preparando os dados para armazenamento\n",
        "\n",
        "twkeys=tweet._json.keys()\n",
        "tweets_dict={}\n",
        "tweets_dict=tweets_dict.fromkeys(twkeys)"
      ],
      "execution_count": 21,
      "outputs": []
    },
    {
      "cell_type": "code",
      "metadata": {
        "id": "v6Zi6mBMd0DU"
      },
      "source": [
        "#alimentando o meu dicionário com os dados do dicionário jason\n",
        "\n",
        "cursor_tweets=tw.Cursor(api.search, \n",
        "        q=query_search).items(200)\n",
        "for tweet in cursor_tweets:\n",
        "      for key in tweets_dict.keys():\n",
        "              try:  \n",
        "                    twkey=tweet._json[key]\n",
        "                    tweets_dict[key].append(tweet._json[key])\n",
        "              except KeyError:\n",
        "                    twkey=\" \"\n",
        "                    tweets_dict[key].append(\" \")\n",
        "              except:\n",
        "                    tweets_dict[key] = [twkey]\n",
        "              print(\"tweets_dict [key]:{}  - tweet[key]:{}\".format(tweets_dict [key],twkey))\n"
      ],
      "execution_count": null,
      "outputs": []
    },
    {
      "cell_type": "code",
      "metadata": {
        "id": "qTvE6M_SeWri"
      },
      "source": [
        "#criando o dataframe com o pandas e visualizando.\n",
        "\n",
        "dfTweets=pd.DataFrame.from_dict(tweets_dict)\n",
        "dfTweets.head()\n",
        "dfTweets.text"
      ],
      "execution_count": null,
      "outputs": []
    },
    {
      "cell_type": "code",
      "metadata": {
        "id": "O2yNtxOgem2g"
      },
      "source": [
        "#exportando o dataframe\n",
        "\n",
        "dfTweets.to_csv(\"tweetsIBGE.csv\", index=False)"
      ],
      "execution_count": 31,
      "outputs": []
    }
  ]
}